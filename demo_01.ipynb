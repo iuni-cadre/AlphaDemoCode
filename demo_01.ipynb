{
 "cells": [
  {
   "cell_type": "code",
   "execution_count": null,
   "metadata": {},
   "outputs": [],
   "source": [
    "#Load libraries:\n",
    "import pandas as pd\n",
    "import matplotlib.pyplot as plt"
   ]
  },
  {
   "cell_type": "code",
   "execution_count": null,
   "metadata": {},
   "outputs": [],
   "source": [
    "#Load Journal of Informetrics Data:\n",
    "#sci_and_inf = pd.read_csv(\"../query-results/20ba16e8-9850-4f31-8c81-c3b6e71bf77d.csv\", sep=',', header = 0)\n",
    "#sci_and_inf = pd.read_csv(\"../20ba16e8-9850-4f31-8c81-c3b6e71bf77d.csv\", sep=',', header = 0)\n",
    "\n",
    "sci_and_inf = pd.read_csv(\"../\", sep=',', header = 0)\n",
    "\n",
    "sci_and_inf.head(n=10)"
   ]
  },
  {
   "cell_type": "code",
   "execution_count": null,
   "metadata": {},
   "outputs": [],
   "source": [
    "scien_yd = sci_and_inf[sci_and_inf.journal_display_name == 'Scientometrics']\n",
    "\n",
    "scien_yd2 = scien_yd[['paper_id', 'year']]\n",
    "\n",
    "scien_yd = scien_yd2.groupby(['year']).count()"
   ]
  },
  {
   "cell_type": "code",
   "execution_count": null,
   "metadata": {},
   "outputs": [],
   "source": [
    "inf_yd = sci_and_inf[sci_and_inf.journal_display_name == 'Journal of Informetrics']\n",
    "\n",
    "inf_yd2 = inf_yd[['paper_id', 'year']]\n",
    "\n",
    "inf_yd = inf_yd2.groupby(['year']).count()"
   ]
  },
  {
   "cell_type": "code",
   "execution_count": null,
   "metadata": {},
   "outputs": [],
   "source": [
    "yd = scien_yd.merge(inf_yd, left_on='year', right_on='year', how = 'outer')\n",
    "\n",
    "yd.reset_index(inplace=True)\n",
    "\n",
    "yd = yd.sort_values('year')\n",
    "\n",
    "yd.columns = ['year', 'Scientometrics', 'Journal of Informetrics']\n",
    "\n",
    "yd = yd.fillna(0)\n",
    "\n",
    "yd = yd[1:-1]\n",
    "\n",
    "print(yd)"
   ]
  },
  {
   "cell_type": "code",
   "execution_count": null,
   "metadata": {},
   "outputs": [],
   "source": [
    "#Create plot:\n",
    "yd.plot(x='year', y=['Journal of Informetrics', 'Scientometrics'], color=['blue', 'red'], kind='line')\n",
    "plt.legend(loc = 2)\n",
    "plt.ylabel(ylabel='No. of Publications')\n",
    "plt.title(label = 'Publication History in Two Journals')\n",
    "plt.show()"
   ]
  }
 ],
 "metadata": {
  "kernelspec": {
   "display_name": "Python 3",
   "language": "python",
   "name": "python3"
  },
  "language_info": {
   "codemirror_mode": {
    "name": "ipython",
    "version": 3
   },
   "file_extension": ".py",
   "mimetype": "text/x-python",
   "name": "python",
   "nbconvert_exporter": "python",
   "pygments_lexer": "ipython3",
   "version": "3.7.3"
  }
 },
 "nbformat": 4,
 "nbformat_minor": 4
}
