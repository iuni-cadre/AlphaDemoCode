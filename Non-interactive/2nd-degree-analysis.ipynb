{
 "cells": [
  {
   "cell_type": "code",
   "execution_count": 1,
   "metadata": {},
   "outputs": [
    {
     "name": "stdout",
     "output_type": "stream",
     "text": [
      "3.5.5 | packaged by conda-forge | (default, Jul 23 2018, 23:45:43) \n",
      "[GCC 4.8.2 20140120 (Red Hat 4.8.2-15)]\n",
      "/home/jovyan\n",
      "/home/jovyan/conda\n"
     ]
    },
    {
     "data": {
      "text/plain": [
       "[FileInfo(path='dbfs:/mnt/AWStest/', name='AWStest/', size=0),\n",
       " FileInfo(path='dbfs:/mnt/WoS/', name='WoS/', size=0),\n",
       " FileInfo(path='dbfs:/mnt/test/', name='test/', size=0),\n",
       " FileInfo(path='dbfs:/mnt/test2/', name='test2/', size=0),\n",
       " FileInfo(path='dbfs:/mnt/test3/', name='test3/', size=0),\n",
       " FileInfo(path='dbfs:/mnt/test7/', name='test7/', size=0)]"
      ]
     },
     "execution_count": 1,
     "metadata": {},
     "output_type": "execute_result"
    }
   ],
   "source": [
    "import sys, os\n",
    "print(sys.version)\n",
    "print(os.environ['HOME'])\n",
    "java_path = '/home/jovyan/conda'\n",
    "os.environ['JAVA_HOME'] = java_path\n",
    "print(os.environ.get('JAVA_HOME'))\n",
    "\n",
    "from pyspark.sql import SparkSession\n",
    "spark = SparkSession.builder.getOrCreate()\n",
    "\n",
    "from pyspark.dbutils import DBUtils\n",
    "dbutils = DBUtils(spark.sparkContext)\n",
    "dbutils.fs.ls(\"/mnt\")"
   ]
  },
  {
   "cell_type": "code",
   "execution_count": 2,
   "metadata": {},
   "outputs": [
    {
     "name": "stdout",
     "output_type": "stream",
     "text": [
      "+-------+---------+---------+\n",
      "|summary|   citing|    cited|\n",
      "+-------+---------+---------+\n",
      "|  count|895891378|895891378|\n",
      "+-------+---------+---------+\n",
      "\n"
     ]
    }
   ],
   "source": [
    "import pyspark.sql.functions as sql\n",
    "\n",
    "#ref = spark.read.format(\"csv\").option(\"header\", \"false\").option(\"delimiter\", \"\\t\").load(\"/mnt/test/mag/PaperReferences.txt\")\n",
    "#ref.select(\"_c0\", \"_c1\").toDF(\"citing\", \"cited\").write.mode('overwrite').bucketBy(64, \"cited\").saveAsTable(\"allRef\")\n",
    "ref = spark.read.table(\"allRef0\").dropDuplicates()\n",
    "ref.describe().filter(sql.col(\"summary\") == \"count\").show(5)"
   ]
  },
  {
   "cell_type": "code",
   "execution_count": 4,
   "metadata": {},
   "outputs": [
    {
     "data": {
      "text/plain": [
       "cited                   96137\n",
       "citing                  96137\n",
       "paper_id                96137\n",
       "year                    96137\n",
       "original_title          96137\n",
       "authors_display_name    96137\n",
       "journal_display_name    96137\n",
       "paper_abstract          94200\n",
       "dtype: int64"
      ]
     },
     "execution_count": 4,
     "metadata": {},
     "output_type": "execute_result"
    }
   ],
   "source": [
    "import pandas as pd\n",
    "from pandas import DataFrame\n",
    "\n",
    "ego = pd.read_csv('../../packages/issi_data_package/output_files/data/774e7eb6-6ac7-4dd5-9339-531b746cb8ec.csv')\n",
    "degree1 = pd.read_csv('../../packages/issi_data_package/output_files/data/774e7eb6-6ac7-4dd5-9339-531b746cb8ec_nodes.csv')\n",
    "edges0 = pd.read_csv('../../packages/issi_data_package/output_files/data/2ndOrderEdges.csv')\n",
    "#degree1edge = DataFrame.drop_duplicates(degree1edge)\n",
    "#display(ego,degree1)\n",
    "citations = pd.merge(edges0, ego, left_on=['cited'], right_on=['paper_id'], how='inner')\n",
    "citations.count()"
   ]
  },
  {
   "cell_type": "code",
   "execution_count": 5,
   "metadata": {},
   "outputs": [
    {
     "name": "stdout",
     "output_type": "stream",
     "text": [
      "+-------+------+------+\n",
      "|summary| cited|citing|\n",
      "+-------+------+------+\n",
      "|  count|433113|433113|\n",
      "+-------+------+------+\n",
      "\n"
     ]
    }
   ],
   "source": [
    "from pyspark.sql.functions import broadcast\n",
    "degree1 = degree1[['paper_id','original_title']]\n",
    "d1Spark = spark.createDataFrame(degree1)\n",
    "#egoSpark.describe().filter(sql.col(\"summary\") == \"count\").show(5)\n",
    "\n",
    "edges = ref.join(broadcast(d1Spark), (d1Spark[\"paper_id\"] == ref[\"cited\"]), \"inner\").select(\"cited\",\"citing\")\n",
    "edges.describe().filter(sql.col(\"summary\") == \"count\").show(20)\n",
    "#edges.toPandas().to_csv('../2ndOrderEdges.csv', index=False)"
   ]
  },
  {
   "cell_type": "code",
   "execution_count": 8,
   "metadata": {},
   "outputs": [
    {
     "name": "stdout",
     "output_type": "stream",
     "text": [
      "+-------+------+---------+------+------+------+------+\n",
      "|summary| focal|connector| cited|citing|cited2|    LE|\n",
      "+-------+------+---------+------+------+------+------+\n",
      "|  count|330935|   330935|330935|330935|330935|330935|\n",
      "+-------+------+---------+------+------+------+------+\n",
      "\n"
     ]
    }
   ],
   "source": [
    "egos = edges.toDF(\"focal\",\"connector\")\n",
    "egos2 = egos.join(edges, (egos[\"connector\"] == edges[\"cited\"]), \"inner\")\n",
    "#egos2.describe().filter(sql.col(\"summary\") == \"count\").show(20)\n",
    "egos0 = edges.toDF(\"cited2\",\"LE\")\n",
    "egos3 = egos2.join(egos0, (egos2[\"focal\"] == egos0[\"cited2\"]) & (egos2[\"citing\"] == egos0[\"LE\"]), \"inner\")\n",
    "egos3.describe().filter(sql.col(\"summary\") == \"count\").show(20)"
   ]
  },
  {
   "cell_type": "code",
   "execution_count": 9,
   "metadata": {},
   "outputs": [
    {
     "data": {
      "text/html": [
       "<div>\n",
       "<style scoped>\n",
       "    .dataframe tbody tr th:only-of-type {\n",
       "        vertical-align: middle;\n",
       "    }\n",
       "\n",
       "    .dataframe tbody tr th {\n",
       "        vertical-align: top;\n",
       "    }\n",
       "\n",
       "    .dataframe thead th {\n",
       "        text-align: right;\n",
       "    }\n",
       "</style>\n",
       "<table border=\"1\" class=\"dataframe\">\n",
       "  <thead>\n",
       "    <tr style=\"text-align: right;\">\n",
       "      <th></th>\n",
       "      <th>paper_id</th>\n",
       "      <th>year</th>\n",
       "      <th>original_title</th>\n",
       "      <th>authors_display_name</th>\n",
       "      <th>journal_display_name</th>\n",
       "      <th>paper_abstract</th>\n",
       "    </tr>\n",
       "  </thead>\n",
       "  <tbody>\n",
       "    <tr>\n",
       "      <th>880</th>\n",
       "      <td>1966024011</td>\n",
       "      <td>2015</td>\n",
       "      <td>Field-normalized citation impact indicators us...</td>\n",
       "      <td>Javier Ruiz-Castillo|Ludo Waltman</td>\n",
       "      <td>Journal of Informetrics</td>\n",
       "      <td>We study the problem of normalizing citation i...</td>\n",
       "    </tr>\n",
       "  </tbody>\n",
       "</table>\n",
       "</div>"
      ],
      "text/plain": [
       "       paper_id  year                                     original_title  \\\n",
       "880  1966024011  2015  Field-normalized citation impact indicators us...   \n",
       "\n",
       "                  authors_display_name     journal_display_name  \\\n",
       "880  Javier Ruiz-Castillo|Ludo Waltman  Journal of Informetrics   \n",
       "\n",
       "                                        paper_abstract  \n",
       "880  We study the problem of normalizing citation i...  "
      ]
     },
     "execution_count": 9,
     "metadata": {},
     "output_type": "execute_result"
    }
   ],
   "source": [
    "ego[ego['paper_id'] == 1966024011]"
   ]
  },
  {
   "cell_type": "code",
   "execution_count": 10,
   "metadata": {},
   "outputs": [
    {
     "name": "stdout",
     "output_type": "stream",
     "text": [
      "+-------+-----+---------+-----+------+------+---+\n",
      "|summary|focal|connector|cited|citing|cited2| LE|\n",
      "+-------+-----+---------+-----+------+------+---+\n",
      "|  count|   74|       74|   74|    74|    74| 74|\n",
      "+-------+-----+---------+-----+------+------+---+\n",
      "\n"
     ]
    }
   ],
   "source": [
    "oneHop = edges.filter(sql.col(\"cited\") == \"1966024011\").toDF(\"focal\",\"connector\")\n",
    "twoHops = oneHop.join(edges, (oneHop[\"connector\"] == edges[\"cited\"]), \"inner\")\n",
    "oneHop0 = oneHop.toDF(\"cited2\",\"LE\")\n",
    "ego0 = twoHops.join(oneHop0, (twoHops[\"focal\"] == oneHop0[\"cited2\"]) & (twoHops[\"citing\"] == oneHop0[\"LE\"]), \"inner\")\n",
    "ego0.describe().filter(sql.col(\"summary\") == \"count\").show(20)"
   ]
  },
  {
   "cell_type": "code",
   "execution_count": 11,
   "metadata": {},
   "outputs": [
    {
     "data": {
      "text/plain": [
       "<Figure size 640x480 with 1 Axes>"
      ]
     },
     "metadata": {},
     "output_type": "display_data"
    },
    {
     "data": {
      "text/plain": [
       "None"
      ]
     },
     "metadata": {},
     "output_type": "display_data"
    }
   ],
   "source": [
    "import networkx as nx\n",
    "import numpy as np\n",
    "import matplotlib.pyplot as plt\n",
    "\n",
    "subgraph = oneHop.select(\"focal\",\"connector\").distinct().toPandas()\n",
    "subgraph = subgraph.append(ego0.select(\"connector\",\"LE\").toDF(\"focal\",\"connector\").distinct().toPandas())\n",
    "G = nx.from_pandas_edgelist(subgraph, \"focal\", \"connector\")\n",
    "pos = nx.spring_layout(G)\n",
    "color_map = []\n",
    "for node in G:\n",
    "    if node == \"1966024011\":\n",
    "        color_map.append('blue')\n",
    "    else: color_map.append('red')    \n",
    "nx.draw(G, node_color = color_map, with_labels=True, pos=pos)\n",
    "image = plt.show()\n",
    "display(image)\n"
   ]
  },
  {
   "cell_type": "code",
   "execution_count": 10,
   "metadata": {},
   "outputs": [],
   "source": [
    "plt.close()"
   ]
  },
  {
   "cell_type": "code",
   "execution_count": 36,
   "metadata": {},
   "outputs": [
    {
     "data": {
      "text/plain": [
       "45"
      ]
     },
     "execution_count": 36,
     "metadata": {},
     "output_type": "execute_result"
    }
   ],
   "source": [
    "len(G)"
   ]
  },
  {
   "cell_type": "code",
   "execution_count": null,
   "metadata": {},
   "outputs": [],
   "source": []
  }
 ],
 "metadata": {
  "kernelspec": {
   "display_name": "Python (databricks-backend)",
   "language": "python",
   "name": "databricks"
  },
  "language_info": {
   "codemirror_mode": {
    "name": "ipython",
    "version": 3
   },
   "file_extension": ".py",
   "mimetype": "text/x-python",
   "name": "python",
   "nbconvert_exporter": "python",
   "pygments_lexer": "ipython3",
   "version": "3.5.5"
  }
 },
 "nbformat": 4,
 "nbformat_minor": 4
}
