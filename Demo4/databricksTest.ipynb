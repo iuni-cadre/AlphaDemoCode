{
 "cells": [
  {
   "cell_type": "code",
   "execution_count": 19,
   "metadata": {},
   "outputs": [
    {
     "name": "stdout",
     "output_type": "stream",
     "text": [
      "3.5.5 | packaged by conda-forge | (default, Jul 23 2018, 23:45:43) \n",
      "[GCC 4.8.2 20140120 (Red Hat 4.8.2-15)]\n",
      "/home/jovyan\n",
      "/home/jovyan/conda\n"
     ]
    }
   ],
   "source": [
    "import sys, os\n",
    "print(sys.version)\n",
    "print(os.environ['HOME'])\n",
    "java_path = '/home/jovyan/conda'\n",
    "os.environ['JAVA_HOME'] = java_path\n",
    "print(os.environ.get('JAVA_HOME'))"
   ]
  },
  {
   "cell_type": "code",
   "execution_count": 20,
   "metadata": {},
   "outputs": [],
   "source": [
    "from pyspark.sql import SparkSession\n",
    "spark = SparkSession.builder.getOrCreate()"
   ]
  },
  {
   "cell_type": "code",
   "execution_count": 22,
   "metadata": {},
   "outputs": [
    {
     "data": {
      "text/plain": [
       "[FileInfo(path='dbfs:/mnt/AWStest/', name='AWStest/', size=0),\n",
       " FileInfo(path='dbfs:/mnt/WoS/', name='WoS/', size=0),\n",
       " FileInfo(path='dbfs:/mnt/test/', name='test/', size=0),\n",
       " FileInfo(path='dbfs:/mnt/test2/', name='test2/', size=0),\n",
       " FileInfo(path='dbfs:/mnt/test3/', name='test3/', size=0),\n",
       " FileInfo(path='dbfs:/mnt/test7/', name='test7/', size=0)]"
      ]
     },
     "execution_count": 22,
     "metadata": {},
     "output_type": "execute_result"
    }
   ],
   "source": [
    "from pyspark.dbutils import DBUtils\n",
    "\n",
    "dbutils = DBUtils(spark.sparkContext)\n",
    "dbutils.fs.ls(\"/mnt\")"
   ]
  },
  {
   "cell_type": "code",
   "execution_count": 1,
   "metadata": {},
   "outputs": [],
   "source": [
    "import pandas as pd\n",
    "ego = pd.read_csv('../../packages/issi_data_package/output_files/data/774e7eb6-6ac7-4dd5-9339-531b746cb8ec.csv')\n",
    "degree1 = pd.read_csv('../../packages/issi_data_package/output_files/data/774e7eb6-6ac7-4dd5-9339-531b746cb8ec_nodes.csv')\n",
    "#display(ego,degree1)"
   ]
  },
  {
   "cell_type": "code",
   "execution_count": 9,
   "metadata": {},
   "outputs": [
    {
     "data": {
      "text/plain": [
       "From                      413898\n",
       "To                        413898\n",
       "paper_id                  413898\n",
       "date                      413898\n",
       "journal_id                315637\n",
       "citation_count            413898\n",
       "original_title            413898\n",
       "issue                     291890\n",
       "paper_title               413898\n",
       "year                      413898\n",
       "first_name                341519\n",
       "last_name                 325209\n",
       "original_venue            364573\n",
       "doc_type                  338453\n",
       "volume                    317484\n",
       "estimated_citation        413898\n",
       "conference_instance_id      6265\n",
       "book_title                 15357\n",
       "rank                      413898\n",
       "publisher                 363905\n",
       "created_date              413898\n",
       "reference_count           413898\n",
       "conference_series_id       21136\n",
       "doi                       351035\n",
       "dtype: int64"
      ]
     },
     "execution_count": 9,
     "metadata": {},
     "output_type": "execute_result"
    }
   ],
   "source": [
    "edges = pd.read_csv('../../packages/issi_data_package/output_files/data/a71d68fa-a479-47b6-8e55-ce8f12eacb56_edges.csv')\n",
    "citations = pd.merge(edges, degree1, left_on=['To'], right_on=['paper_id'])\n",
    "citations.count()\n",
    "#edges.count()"
   ]
  },
  {
   "cell_type": "code",
   "execution_count": 10,
   "metadata": {},
   "outputs": [
    {
     "data": {
      "text/plain": [
       "focal                     11464864\n",
       "connector                 11464864\n",
       "From                      11464864\n",
       "To                        11464864\n",
       "paper_id                  11464864\n",
       "date                      11464864\n",
       "journal_id                 8825391\n",
       "citation_count            11464864\n",
       "original_title            11464864\n",
       "issue                      8202022\n",
       "paper_title               11464864\n",
       "year                      11464864\n",
       "first_name                 9345237\n",
       "last_name                  9001069\n",
       "original_venue             9749807\n",
       "doc_type                   9305687\n",
       "volume                     8716740\n",
       "estimated_citation        11464864\n",
       "conference_instance_id       69895\n",
       "book_title                  234915\n",
       "rank                      11464864\n",
       "publisher                 10096385\n",
       "created_date              11464864\n",
       "reference_count           11464864\n",
       "conference_series_id        421470\n",
       "doi                        9712101\n",
       "dtype: int64"
      ]
     },
     "execution_count": 10,
     "metadata": {},
     "output_type": "execute_result"
    }
   ],
   "source": [
    "citations0 = citations[['From','To']]\n",
    "citations0.columns = ['focal', 'connector']\n",
    "citations2 = pd.merge(citations0, citations, left_on=['connector'], right_on=['To'])\n",
    "citations2.count()"
   ]
  },
  {
   "cell_type": "code",
   "execution_count": 11,
   "metadata": {},
   "outputs": [
    {
     "data": {
      "text/plain": [
       "focal                     17989764\n",
       "connector                 17989764\n",
       "From                      17989764\n",
       "To                        17989764\n",
       "paper_id                  17989764\n",
       "date                      17989764\n",
       "journal_id                13919971\n",
       "citation_count            17989764\n",
       "original_title            17989764\n",
       "issue                     13006668\n",
       "paper_title               17989764\n",
       "year                      17989764\n",
       "first_name                14728317\n",
       "last_name                 14219537\n",
       "original_venue            15319381\n",
       "doc_type                  14663909\n",
       "volume                    13747072\n",
       "estimated_citation        17989764\n",
       "conference_instance_id      107713\n",
       "book_title                  364885\n",
       "rank                      17989764\n",
       "publisher                 15824819\n",
       "created_date              17989764\n",
       "reference_count           17989764\n",
       "conference_series_id        651528\n",
       "doi                       15262445\n",
       "cited2                    17989764\n",
       "LE                        17989764\n",
       "dtype: int64"
      ]
     },
     "execution_count": 11,
     "metadata": {},
     "output_type": "execute_result"
    }
   ],
   "source": [
    "citations00 = citations0\n",
    "citations00.columns = ['cited2','LE']\n",
    "citations3 = pd.merge(citations2, citations00, left_on=['focal','To'], right_on=['cited2','LE'])\n",
    "citations3.count()"
   ]
  },
  {
   "cell_type": "code",
   "execution_count": 18,
   "metadata": {},
   "outputs": [],
   "source": [
    "# direct citations\n",
    "import matplotlib\n",
    "import matplotlib.pyplot as plt\n",
    "from collections import defaultdict\n",
    "\n",
    "paper_citing = defaultdict(list)\n",
    "\n",
    "citingFile = open(\"../../packages/issi_data_package/output_files/data/a71d68fa-a479-47b6-8e55-ce8f12eacb56_edges.csv\", \"r\")\n",
    "citingFile.readline()\n",
    "for line in citingFile:\n",
    "    line = line.strip().replace('\"', '').split(\",\")\n",
    "    paper_citing[int(line[1])].append(int(line[0]))"
   ]
  },
  {
   "cell_type": "code",
   "execution_count": 26,
   "metadata": {},
   "outputs": [
    {
     "name": "stdout",
     "output_type": "stream",
     "text": [
      "Processed 0.25060772373004536 of total focal papers...\n",
      "\n",
      "Processed 0.5012154474600907 of total focal papers...\n",
      "\n",
      "Processed 0.7518231711901361 of total focal papers...\n",
      "\n"
     ]
    }
   ],
   "source": [
    "# indirect citations\n",
    "count = 0\n",
    "total = len(degree1)\n",
    "indirect_citation = defaultdict(list)\n",
    "paperList = degree1['paper_id'].tolist()\n",
    "\n",
    "for paper in paperList:\n",
    "    count += 1\n",
    "    if count % 10000 == 0:\n",
    "        print(\"Processed \" + str(float(count) / float(total)) + \" of total focal papers...\\n\")\n",
    "    for citing_paper_1 in paper_citing[paper]:\n",
    "        for citing_paper_2 in paper_citing[paper]:\n",
    "            if citing_paper_1 in paper_citing[citing_paper_2]:\n",
    "                temp = []\n",
    "                temp.append(citing_paper_1)\n",
    "                temp.append(citing_paper_2)\n",
    "                indirect_citation[paper].append(temp)"
   ]
  },
  {
   "cell_type": "code",
   "execution_count": 30,
   "metadata": {},
   "outputs": [
    {
     "name": "stdout",
     "output_type": "stream",
     "text": [
      "+-------+------+------+------+------+------+------+---+------+------+------+------+----+----+------+------+------+------+------+------+------+------+------+\n",
      "|summary|_c0   |_c1   |_c2   |_c3   |_c4   |_c5   |_c6|_c7   |_c8   |_c9   |_c10  |_c11|_c12|_c13  |_c14  |_c15  |_c16  |_c17  |_c18  |_c19  |_c20  |_c21  |\n",
      "+-------+------+------+------+------+------+------+---+------+------+------+------+----+----+------+------+------+------+------+------+------+------+------+\n",
      "|count  |138953|138953|135508|138953|138953|138953|25 |138953|138953|135368|138953|0   |0   |135531|135099|133690|127181|138953|138953|138953|138953|138953|\n",
      "+-------+------+------+------+------+------+------+---+------+------+------+------+----+----+------+------+------+------+------+------+------+------+------+\n",
      "\n"
     ]
    }
   ],
   "source": [
    "import pyspark.sql.functions as sql\n",
    "papers = spark.read.format(\"parquet\").load(\"/mnt/test/graph/2019-1-11-PNAS/papers/*.parquet\")\n",
    "papers.describe().filter(sql.col(\"summary\") == \"count\").show(20,False)"
   ]
  },
  {
   "cell_type": "code",
   "execution_count": 11,
   "metadata": {},
   "outputs": [
    {
     "name": "stdout",
     "output_type": "stream",
     "text": [
      "\n",
      "Please wait a moment while I gather a list of all available modules...\n",
      "\n"
     ]
    },
    {
     "name": "stderr",
     "output_type": "stream",
     "text": [
      "/home/jovyan/conda/dbconnect/lib/python3.5/site-packages/IPython/kernel/__init__.py:13: ShimWarning: The `IPython.kernel` package has been deprecated since IPython 4.0.You should import from ipykernel or jupyter_client instead.\n",
      "  \"You should import from ipykernel or jupyter_client instead.\", ShimWarning)\n",
      "/home/jovyan/conda/dbconnect/lib/python3.5/pkgutil.py:104: VisibleDeprecationWarning: zmq.eventloop.minitornado is deprecated in pyzmq 14.0 and will be removed.\n",
      "    Install tornado itself to use zmq with the tornado IOLoop.\n",
      "    \n",
      "  yield from walk_packages(path, name+'.', onerror)\n"
     ]
    },
    {
     "name": "stdout",
     "output_type": "stream",
     "text": [
      "CDROM               autoreload          jsonschema          select\n",
      "DLFCN               backcall            jupyter             selectors\n",
      "IN                  base64              jupyter_client      send2trash\n",
      "IPython             bdb                 jupyter_core        setuptools\n",
      "PyQt5               binascii            keyword             shelve\n",
      "TYPES               binhex              kiwisolver          shlex\n",
      "__future__          bisect              lib2to3             shutil\n",
      "_ast                bleach              linecache           signal\n",
      "_bisect             builtins            locale              simplegeneric\n",
      "_bootlocale         bz2                 logging             sip\n",
      "_bz2                cProfile            lzma                sipconfig\n",
      "_codecs             calendar            macpath             sipdistutils\n",
      "_codecs_cn          certifi             macurl2path         site\n",
      "_codecs_hk          cgi                 mailbox             six\n",
      "_codecs_iso2022     cgitb               mailcap             smtpd\n",
      "_codecs_jp          chunk               markupsafe          smtplib\n",
      "_codecs_kr          cmath               marshal             sndhdr\n",
      "_codecs_tw          cmd                 math                socket\n",
      "_collections        code                matplotlib          socketserver\n",
      "_collections_abc    codecs              mimetypes           spwd\n",
      "_compat_pickle      codeop              mistune             sqlite3\n",
      "_compression        collections         mmap                sre_compile\n",
      "_crypt              colorsys            modulefinder        sre_constants\n",
      "_csv                compileall          multiprocessing     sre_parse\n",
      "_ctypes             concurrent          nb_conda            ssl\n",
      "_ctypes_test        configparser        nb_conda_kernels    stat\n",
      "_curses             contextlib          nbconvert           statistics\n",
      "_curses_panel       copy                nbformat            storemagic\n",
      "_datetime           copyreg             netrc               string\n",
      "_decimal            crypt               nis                 stringprep\n",
      "_dummy_thread       csv                 nntplib             struct\n",
      "_elementtree        ctypes              notebook            subprocess\n",
      "_functools          curses              ntpath              sunau\n",
      "_hashlib            cycler              nturl2path          symbol\n",
      "_heapq              cythonmagic         numbers             sympyprinting\n",
      "_imp                datetime            numpy               symtable\n",
      "_io                 dateutil            opcode              sys\n",
      "_json               dbm                 operator            sysconfig\n",
      "_locale             decimal             optparse            syslog\n",
      "_lsprof             decorator           os                  tabnanny\n",
      "_lzma               defusedxml          ossaudiodev         tarfile\n",
      "_markupbase         difflib             pandas              telnetlib\n",
      "_md5                dis                 pandocfilters       tempfile\n",
      "_multibytecodec     distutils           parser              terminado\n",
      "_multiprocessing    doctest             parso               termios\n",
      "_opcode             dummy_threading     pathlib             testpath\n",
      "_operator           easy_install        pdb                 tests\n",
      "_osx_support        email               pexpect             textwrap\n",
      "_pickle             encodings           pickle              this\n",
      "_posixsubprocess    ensurepip           pickleshare         threading\n",
      "_pydecimal          entrypoints         pickletools         time\n",
      "_pyio               enum                pip                 timeit\n",
      "_random             errno               pipes               tkinter\n",
      "_sha1               faulthandler        pkg_resources       token\n",
      "_sha256             fcntl               pkgutil             tokenize\n",
      "_sha512             filecmp             platform            tornado\n",
      "_signal             fileinput           plistlib            trace\n",
      "_sitebuiltins       fnmatch             poplib              traceback\n",
      "_socket             formatter           posix               tracemalloc\n",
      "_sqlite3            fractions           posixpath           traitlets\n",
      "_sre                ftplib              pprint              tty\n",
      "_ssl                functools           profile             turtle\n",
      "_stat               gc                  prometheus_client   turtledemo\n",
      "_string             genericpath         prompt_toolkit      types\n",
      "_strptime           getopt              pstats              typing\n",
      "_struct             getpass             pty                 unicodedata\n",
      "_symtable           gettext             ptyprocess          unittest\n",
      "_sysconfigdata      glob                pwd                 urllib\n",
      "_testbuffer         grp                 py4j                uu\n",
      "_testcapi           gzip                py_compile          uuid\n",
      "_testimportmultiple hashlib             pyclbr              venv\n",
      "_testmultiphase     heapq               pydoc               warnings\n",
      "_thread             hmac                pydoc_data          wave\n",
      "_threading_local    html                pyexpat             wcwidth\n",
      "_tkinter            http                pygments            weakref\n",
      "_tracemalloc        idlelib             pylab               webbrowser\n",
      "_warnings           imaplib             pyparsing           webencodings\n",
      "_weakref            imghdr              pyspark             wheel\n",
      "_weakrefset         imp                 pytz                wsgiref\n",
      "abc                 importlib           queue               xdrlib\n",
      "aifc                inspect             quopri              xml\n",
      "antigravity         io                  random              xmlrpc\n",
      "argparse            ipaddress           re                  xxlimited\n",
      "array               ipykernel           readline            xxsubtype\n",
      "ast                 ipykernel_launcher  reprlib             zipapp\n",
      "asynchat            ipython_genutils    resource            zipfile\n",
      "asyncio             itertools           rlcompleter         zipimport\n",
      "asyncore            jedi                rmagic              zlib\n",
      "atexit              jinja2              runpy               zmq\n",
      "audioop             json                sched               \n",
      "\n",
      "Enter any module name to get more help.  Or, type \"modules spam\" to search\n",
      "for modules whose name or summary contain the string \"spam\".\n",
      "\n"
     ]
    }
   ],
   "source": [
    "help('modules')"
   ]
  },
  {
   "cell_type": "code",
   "execution_count": null,
   "metadata": {},
   "outputs": [],
   "source": []
  }
 ],
 "metadata": {
  "kernelspec": {
   "display_name": "Python 3",
   "language": "python",
   "name": "python3"
  },
  "language_info": {
   "codemirror_mode": {
    "name": "ipython",
    "version": 3
   },
   "file_extension": ".py",
   "mimetype": "text/x-python",
   "name": "python",
   "nbconvert_exporter": "python",
   "pygments_lexer": "ipython3",
   "version": "3.7.3"
  }
 },
 "nbformat": 4,
 "nbformat_minor": 4
}
