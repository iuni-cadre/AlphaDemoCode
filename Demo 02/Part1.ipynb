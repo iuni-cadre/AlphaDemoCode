{
 "cells": [
  {
   "cell_type": "code",
   "execution_count": null,
   "metadata": {},
   "outputs": [],
   "source": [
    "import math\n",
    "import random\n",
    "import os\n",
    "\n",
    "import igraph as ig\n",
    "import numpy as np\n",
    "import matplotlib.pyplot as plt\n",
    "from matplotlib import collections  as mc\n",
    "from wordcloud import WordCloud\n",
    "\n",
    "import query2igraph as q2i\n",
    "import plotgraph as pg\n",
    "\n",
    "from IPython.utils.text import columnize"
   ]
  },
  {
   "cell_type": "code",
   "execution_count": null,
   "metadata": {},
   "outputs": [],
   "source": [
    "path = \"../../packages/demo02_data_package/output_files/data/\"\n",
    "queryID = \"774e7eb6-6ac7-4dd5-9339-531b746cb8ec\"\n",
    "\n",
    "# path = \"../../query-results/\" #change this to use your own query data\n",
    "# queryID = \"53452a01-be2a-4f28-a12a-0650d4fa6948\"\n",
    "\n",
    "# import importlib\n",
    "# importlib.reload(q2i)\n",
    "graph = q2i.query2igraph(queryID,path=path)\n",
    "\n",
    "print(\"Number of vertices: %d\"%graph.vcount())\n",
    "print(\"Number of edges: %d\"%graph.ecount())\n",
    "print(\"Average degree: %.2f\"%(graph.ecount()/graph.vcount()))"
   ]
  },
  {
   "cell_type": "code",
   "execution_count": null,
   "metadata": {},
   "outputs": [],
   "source": [
    "print(columnize(graph.vertex_attributes()))"
   ]
  },
  {
   "cell_type": "code",
   "execution_count": null,
   "metadata": {},
   "outputs": [],
   "source": [
    "# Word Cloud for Abstracts\n",
    "wc = WordCloud(background_color=\"white\", max_words=2000, width=800,height=400, scale=1,contour_width=3, contour_color='white')\n",
    "plt.figure(figsize=(20,10))\n",
    "if(\"paper_abstract\" not in graph.vertex_attributes()):\n",
    "    textData = graph.vs[\"original_title\"]\n",
    "else:\n",
    "    textData =  [\"%s. %s\"%(titleAndAbstract) for titleAndAbstract in zip(graph.vs[\"original_title\"],graph.vs[\"paper_abstract\"])]\n",
    "\n",
    "wc.generate(\"\\n\".join(textData))\n",
    "plt.imshow(wc, interpolation='bilinear')\n",
    "plt.axis(\"off\")\n",
    "plt.show()"
   ]
  },
  {
   "cell_type": "code",
   "execution_count": null,
   "metadata": {},
   "outputs": [],
   "source": [
    "# Calculating KCore and getting year\n",
    "graph.vs[\"KCore\"] = graph.shell_index(mode=\"IN\")\n",
    "\n",
    "print(\"Data from %d to %d\"%(min(graph.vs[\"year\"]),max(graph.vs[\"year\"])))"
   ]
  },
  {
   "cell_type": "code",
   "execution_count": null,
   "metadata": {},
   "outputs": [],
   "source": [
    "# Obtaining giant weakly connected component\n",
    "giant = graph.clusters(mode=\"WEAK\").giant()\n",
    "\n",
    "print(\"In the giant component:\")\n",
    "print(\"\\tNumber of vertices: %d\"%giant.vcount())\n",
    "print(\"\\tNumber of edges: %d\"%giant.ecount())\n",
    "print(\"\\tAverage degree: %.2f\"%(giant.ecount()/giant.vcount()))"
   ]
  },
  {
   "cell_type": "code",
   "execution_count": null,
   "metadata": {},
   "outputs": [],
   "source": [
    "# Obtaining communities\n",
    "giantCopy = giant.copy()\n",
    "giantCopy.to_undirected() #Using Louvain, so the network needs to be undirected\n",
    "giant.vs[\"Community\"] = [str(c) for c in giantCopy.community_multilevel().membership]\n",
    "print(\"Number of communities: %d\"%len(set(giant.vs[\"Community\"])))"
   ]
  },
  {
   "cell_type": "code",
   "execution_count": null,
   "metadata": {},
   "outputs": [],
   "source": [
    "# Saving network\n",
    "import xnet as xn\n",
    "os.makedirs(\"../networks\", exist_ok=True)\n",
    "xn.igraph2xnet(giant,\"../networks/%s.xnet\"%queryID);"
   ]
  },
  {
   "cell_type": "code",
   "execution_count": null,
   "metadata": {},
   "outputs": [],
   "source": [
    "# Filter graph by year and KCore\n",
    "\n",
    "minYear = 2000\n",
    "minKCore = 1\n",
    "\n",
    "filteredGraph = giant.copy()\n",
    "\n",
    "beforeMinYear = np.array(filteredGraph.vs[\"year\"])<minYear\n",
    "lessThanMinKCore = np.array(filteredGraph.vs[\"KCore\"])<minKCore\n",
    "\n",
    "verticesToDelete = np.where(np.logical_or(beforeMinYear,lessThanMinKCore))[0]\n",
    "filteredGraph.delete_vertices(verticesToDelete)\n",
    "filteredGraph = filteredGraph.clusters(mode=\"WEAK\").giant() #gets the major component again just in case\n",
    "\n",
    "print(\"Filtered graph:\")\n",
    "print(\"\\tNumber of vertices: %d\"%filteredGraph.vcount())\n",
    "print(\"\\tNumber of edges: %d\"%filteredGraph.ecount())\n",
    "print(\"\\tAverage degree: %.2f\"%(filteredGraph.ecount()/filteredGraph.vcount()))"
   ]
  },
  {
   "cell_type": "code",
   "execution_count": null,
   "metadata": {},
   "outputs": [],
   "source": [
    "# Visualization\n",
    "\n",
    "fig, ax = plt.subplots(figsize=(10,10))\n",
    "pg.drawGraph(filteredGraph,ax)\n",
    "plt.axis(\"off\")\n",
    "plt.show()"
   ]
  },
  {
   "cell_type": "code",
   "execution_count": null,
   "metadata": {},
   "outputs": [],
   "source": [
    "# Word Cloud for communities\n",
    "\n",
    "maxInternalWords = 300\n",
    "maxAllWords = 1000\n",
    "maxCommunities = 4;\n",
    "\n",
    "# Color styles\n",
    "_styleColors = [\"#1f77b4\",\"#ff7f0e\",\"#2ca02c\",\"#d62728\",\"#9467bd\",\n",
    "                \"#8c564b\",\"#e377c2\",\"#7f7f7f\",\"#bcbd22\",\"#17becf\",\n",
    "                \"#aec7e8\",\"#ffbb78\",\"#98df8a\",\"#ff9896\",\"#c5b0d5\",\n",
    "                \"#c49c94\",\"#f7b6d2\",\"#c7c7c7\",\"#dbdb8d\",\"#9edae5\"]\n",
    "\n",
    "# Some auxiliary functions\n",
    "def sortByFrequency(arr):\n",
    "    s = set(arr)\n",
    "    keys = {n: (-arr.count(n), arr.index(n)) for n in s}\n",
    "    return sorted(list(s), key=lambda n: keys[n])\n",
    "\n",
    "def lighten_color(color, amount=0.5):\n",
    "    import matplotlib.colors as mc\n",
    "    import colorsys\n",
    "    try:\n",
    "        c = mc.cnames[color]\n",
    "    except:\n",
    "        c = color\n",
    "    c = colorsys.rgb_to_hls(*mc.to_rgb(c))\n",
    "    return colorsys.hls_to_rgb(c[0], 1 - amount * (1 - c[1]), c[2])\n",
    "\n",
    "\n",
    "def generateColorFunction(originalColor):\n",
    "    def lighten_color_func(word, font_size, position, orientation, random_state=None,**kwargs):\n",
    "        c = lighten_color(originalColor,font_size/200*0.6+0.2+0.4*random.random())\n",
    "        return (int(c[0]*255),int(c[1]*255),int(c[2]*255))\n",
    "    return lighten_color_func"
   ]
  },
  {
   "cell_type": "code",
   "execution_count": null,
   "metadata": {},
   "outputs": [],
   "source": [
    "# Creating word clouds for top 4 largest communities\n",
    "wordcloudProperty = \"original_title\" # \"paper_abstract\"\n",
    "\n",
    "communities = filteredGraph.vs[\"Community\"]\n",
    "sortedCommunities = sortByFrequency(communities)[0:maxCommunities]\n",
    "fig = plt.figure(figsize=(20,5*math.ceil(len(sortedCommunities)/2)))\n",
    "allAbstracts = \"\\n\".join(filteredGraph.vs[wordcloudProperty])\n",
    "allFrequencies = WordCloud(max_words=maxAllWords).process_text(allAbstracts)\n",
    "amask = np.zeros((500,1000),dtype='B')\n",
    "amask[:10,:] = 255\n",
    "amask[-10:,:] = 255\n",
    "amask[:,:10] = 255\n",
    "amask[:,-10:] = 255\n",
    "for index,community in enumerate(sortedCommunities):\n",
    "    communityColor = (_styleColors[index] if index<len(_styleColors) else \"#aaaaaa\")\n",
    "    abstracts = \"\\n\".join([vertex[wordcloudProperty] for vertex in filteredGraph.vs if vertex[\"Community\"]==community])\n",
    "    plt.subplot(math.ceil(len(sortedCommunities)/2),2,index+1)\n",
    "    wc = WordCloud(background_color=\"white\", max_words=maxInternalWords, width=1000,height=500,\n",
    "        mask=amask,contour_width=10, contour_color=communityColor,random_state=3,color_func=generateColorFunction(communityColor))\n",
    "\n",
    "    inCommunityFrequency = wc.process_text(abstracts)\n",
    "    relativeFrequencies = {key:frequency/math.log(allFrequencies[key]+1) for key,frequency in inCommunityFrequency.items() if key in allFrequencies}\n",
    "    wc.generate_from_frequencies(relativeFrequencies)\n",
    "\n",
    "    plt.imshow(wc, interpolation='bilinear')\n",
    "    plt.axis(\"off\")\n",
    "\n",
    "plt.tight_layout()\n",
    "plt.show()"
   ]
  }
 ],
 "metadata": {
  "kernelspec": {
   "display_name": "Python 3",
   "language": "python",
   "name": "python3"
  },
  "language_info": {
   "codemirror_mode": {
    "name": "ipython",
    "version": 3
   },
   "file_extension": ".py",
   "mimetype": "text/x-python",
   "name": "python",
   "nbconvert_exporter": "python",
   "pygments_lexer": "ipython3",
   "version": "3.7.3"
  }
 },
 "nbformat": 4,
 "nbformat_minor": 4
}
