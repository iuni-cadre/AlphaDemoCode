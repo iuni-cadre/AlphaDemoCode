{
 "cells": [
  {
   "cell_type": "code",
   "execution_count": null,
   "metadata": {},
   "outputs": [],
   "source": [
    "!mkdir ~/.local/lib\n",
    "!mkdir ~/.local/python3.7\n",
    "!cp -r ~/packages/ISSI_tutorial_package/output_files/ISSItutorial ~/ISSItutorial\n",
    "!cp -r ~/packages/ISSI_tutorial_package/output_files/ISSItutorial/local/lib/python3.7 ~/.local/lib/python3.7\n",
    "\n",
    "cp -r ~/.local/lib/python3.7 ~/packages/issi_tutorial_package/output_files/ISSItutorial/local/lib/python3.7 "
   ]
  },
  {
   "cell_type": "code",
   "execution_count": 1,
   "metadata": {},
   "outputs": [],
   "source": [
    "#Load libraries:\n",
    "import pandas as pd\n",
    "import matplotlib.pyplot as plt"
   ]
  },
  {
   "cell_type": "code",
   "execution_count": 5,
   "metadata": {},
   "outputs": [
    {
     "data": {
      "text/html": [
       "<div>\n",
       "<style scoped>\n",
       "    .dataframe tbody tr th:only-of-type {\n",
       "        vertical-align: middle;\n",
       "    }\n",
       "\n",
       "    .dataframe tbody tr th {\n",
       "        vertical-align: top;\n",
       "    }\n",
       "\n",
       "    .dataframe thead th {\n",
       "        text-align: right;\n",
       "    }\n",
       "</style>\n",
       "<table border=\"1\" class=\"dataframe\">\n",
       "  <thead>\n",
       "    <tr style=\"text-align: right;\">\n",
       "      <th></th>\n",
       "      <th>paper_id</th>\n",
       "      <th>year</th>\n",
       "      <th>original_title</th>\n",
       "      <th>authors_display_name</th>\n",
       "      <th>journal_display_name</th>\n",
       "    </tr>\n",
       "  </thead>\n",
       "  <tbody>\n",
       "    <tr>\n",
       "      <th>0</th>\n",
       "      <td>2294649429</td>\n",
       "      <td>2003</td>\n",
       "      <td>Development of a High Count Rate Readout Syste...</td>\n",
       "      <td>Emmanuel Zervakis|Yannis Papananos|Dimitris Lo...</td>\n",
       "      <td>Journal of Informetrics</td>\n",
       "    </tr>\n",
       "    <tr>\n",
       "      <th>1</th>\n",
       "      <td>2765976477</td>\n",
       "      <td>2017</td>\n",
       "      <td>The hot spot transformation in the research ev...</td>\n",
       "      <td>Ying Chen|Can Wu</td>\n",
       "      <td>Scientometrics</td>\n",
       "    </tr>\n",
       "    <tr>\n",
       "      <th>2</th>\n",
       "      <td>2081133965</td>\n",
       "      <td>1987</td>\n",
       "      <td>In search of influence: The testing of the Ort...</td>\n",
       "      <td>William E. Snizek</td>\n",
       "      <td>Scientometrics</td>\n",
       "    </tr>\n",
       "    <tr>\n",
       "      <th>3</th>\n",
       "      <td>2125355603</td>\n",
       "      <td>1994</td>\n",
       "      <td>Puberty or mid-life crisis</td>\n",
       "      <td>C. Le Pair</td>\n",
       "      <td>Scientometrics</td>\n",
       "    </tr>\n",
       "    <tr>\n",
       "      <th>4</th>\n",
       "      <td>2045322537</td>\n",
       "      <td>1980</td>\n",
       "      <td>Science and science policy in the Arab world</td>\n",
       "      <td>Michael J. Moravcsik</td>\n",
       "      <td>Scientometrics</td>\n",
       "    </tr>\n",
       "    <tr>\n",
       "      <th>5</th>\n",
       "      <td>2034500528</td>\n",
       "      <td>1990</td>\n",
       "      <td>Subject-based publication activity indicators ...</td>\n",
       "      <td>B. M. Gupta|S. C. Sharma|N. N. Mehrotra</td>\n",
       "      <td>Scientometrics</td>\n",
       "    </tr>\n",
       "    <tr>\n",
       "      <th>6</th>\n",
       "      <td>2009797479</td>\n",
       "      <td>2013</td>\n",
       "      <td>Economic statistics and scientometrics</td>\n",
       "      <td>Cornelis A. van Bochove</td>\n",
       "      <td>Scientometrics</td>\n",
       "    </tr>\n",
       "    <tr>\n",
       "      <th>7</th>\n",
       "      <td>2029138605</td>\n",
       "      <td>1983</td>\n",
       "      <td>Statistical reliability of comparisons based o...</td>\n",
       "      <td>András Schubert|Wolfgang Glänzel</td>\n",
       "      <td>Scientometrics</td>\n",
       "    </tr>\n",
       "    <tr>\n",
       "      <th>8</th>\n",
       "      <td>1765839524</td>\n",
       "      <td>2012</td>\n",
       "      <td>Comments on the Discussion Paper</td>\n",
       "      <td>BraunTibor</td>\n",
       "      <td>Scientometrics</td>\n",
       "    </tr>\n",
       "    <tr>\n",
       "      <th>9</th>\n",
       "      <td>2899270272</td>\n",
       "      <td>2018</td>\n",
       "      <td>A bibliometric method for assessing technologi...</td>\n",
       "      <td>René Lezama-Nicolás|Marisela Rodríguez-Salvado...</td>\n",
       "      <td>Scientometrics</td>\n",
       "    </tr>\n",
       "  </tbody>\n",
       "</table>\n",
       "</div>"
      ],
      "text/plain": [
       "     paper_id  year                                     original_title  \\\n",
       "0  2294649429  2003  Development of a High Count Rate Readout Syste...   \n",
       "1  2765976477  2017  The hot spot transformation in the research ev...   \n",
       "2  2081133965  1987  In search of influence: The testing of the Ort...   \n",
       "3  2125355603  1994                         Puberty or mid-life crisis   \n",
       "4  2045322537  1980       Science and science policy in the Arab world   \n",
       "5  2034500528  1990  Subject-based publication activity indicators ...   \n",
       "6  2009797479  2013             Economic statistics and scientometrics   \n",
       "7  2029138605  1983  Statistical reliability of comparisons based o...   \n",
       "8  1765839524  2012                   Comments on the Discussion Paper   \n",
       "9  2899270272  2018  A bibliometric method for assessing technologi...   \n",
       "\n",
       "                                authors_display_name     journal_display_name  \n",
       "0  Emmanuel Zervakis|Yannis Papananos|Dimitris Lo...  Journal of Informetrics  \n",
       "1                                   Ying Chen|Can Wu           Scientometrics  \n",
       "2                                  William E. Snizek           Scientometrics  \n",
       "3                                         C. Le Pair           Scientometrics  \n",
       "4                               Michael J. Moravcsik           Scientometrics  \n",
       "5            B. M. Gupta|S. C. Sharma|N. N. Mehrotra           Scientometrics  \n",
       "6                            Cornelis A. van Bochove           Scientometrics  \n",
       "7                   András Schubert|Wolfgang Glänzel           Scientometrics  \n",
       "8                                         BraunTibor           Scientometrics  \n",
       "9  René Lezama-Nicolás|Marisela Rodríguez-Salvado...           Scientometrics  "
      ]
     },
     "execution_count": 5,
     "metadata": {},
     "output_type": "execute_result"
    }
   ],
   "source": [
    "#Load Journal of Informetrics Data:\n",
    "sci_and_inf = pd.read_csv(\"query-results/sci_and_inf.csv\", sep=',', header = 0)\n",
    "sci_and_inf.head(n=10)"
   ]
  },
  {
   "cell_type": "code",
   "execution_count": 9,
   "metadata": {},
   "outputs": [],
   "source": [
    "scien_yd = sci_and_inf[sci_and_inf.journal_display_name == 'Scientometrics']\n",
    "\n",
    "scien_yd2 = scien_yd[['paper_id', 'year']]\n",
    "\n",
    "scien_yd = scien_yd2.groupby(['year']).count()"
   ]
  },
  {
   "cell_type": "code",
   "execution_count": 26,
   "metadata": {},
   "outputs": [],
   "source": [
    "inf_yd = sci_and_inf[sci_and_inf.journal_display_name == 'Journal of Informetrics']\n",
    "\n",
    "inf_yd2 = inf_yd[['paper_id', 'year']]\n",
    "\n",
    "inf_yd = inf_yd2.groupby(['year']).count()"
   ]
  },
  {
   "cell_type": "code",
   "execution_count": 24,
   "metadata": {},
   "outputs": [
    {
     "name": "stdout",
     "output_type": "stream",
     "text": [
      "    year  Scientometrics  Journal of Informetrics\n",
      "0   1978             6.0                      0.0\n",
      "1   1979            21.0                      0.0\n",
      "2   1980            35.0                      2.0\n",
      "3   1981            30.0                      0.0\n",
      "4   1982            28.0                      1.0\n",
      "5   1983            24.0                      0.0\n",
      "6   1984            32.0                      0.0\n",
      "7   1985            57.0                      0.0\n",
      "8   1986            46.0                      0.0\n",
      "9   1987            67.0                      1.0\n",
      "10  1988            56.0                      0.0\n",
      "11  1989            79.0                      0.0\n",
      "12  1990            67.0                      0.0\n",
      "13  1991            83.0                      0.0\n",
      "14  1992            89.0                      1.0\n",
      "15  1993            65.0                      1.0\n",
      "16  1994            92.0                      1.0\n",
      "17  1995            90.0                      0.0\n",
      "18  1996           101.0                      1.0\n",
      "19  1997            84.0                      0.0\n",
      "20  1998            98.0                      2.0\n",
      "21  1999           144.0                      2.0\n",
      "22  2000            99.0                      1.0\n",
      "23  2001           118.0                      1.0\n",
      "24  2002           109.0                      0.0\n",
      "25  2003           104.0                     52.0\n",
      "26  2004           125.0                      3.0\n",
      "27  2005           111.0                      0.0\n",
      "28  2006           156.0                      2.0\n",
      "29  2007           131.0                     33.0\n",
      "30  2008           138.0                     35.0\n",
      "31  2009           195.0                     36.0\n",
      "32  2010           238.0                     69.0\n",
      "33  2011           235.0                     67.0\n",
      "34  2012           265.0                     77.0\n",
      "35  2013           262.0                    102.0\n",
      "36  2014           356.0                     87.0\n",
      "37  2015           364.0                     83.0\n",
      "38  2016           375.0                    104.0\n",
      "39  2017           395.0                    108.0\n",
      "40  2018           424.0                     95.0\n"
     ]
    }
   ],
   "source": [
    "yd = scien_yd.merge(inf_yd, left_on='year', right_on='year', how = 'outer')\n",
    "\n",
    "yd.reset_index(inplace=True)\n",
    "\n",
    "yd = yd.sort_values('year')\n",
    "\n",
    "yd.columns = ['year', 'Scientometrics', 'Journal of Informetrics']\n",
    "\n",
    "yd = yd.fillna(0)\n",
    "\n",
    "yd = yd[1:-1]\n",
    "\n",
    "print(yd)"
   ]
  },
  {
   "cell_type": "code",
   "execution_count": 25,
   "metadata": {},
   "outputs": [
    {
     "data": {
      "image/png": "[encoded data removed]",
      "text/plain": [
       "<Figure size 432x288 with 1 Axes>"
      ]
     },
     "metadata": {
      "needs_background": "light"
     },
     "output_type": "display_data"
    }
   ],
   "source": [
    "#Create plot:\n",
    "yd.plot(x='year', y=['Journal of Informetrics', 'Scientometrics'], color=['blue', 'red'], kind='line')\n",
    "plt.legend(loc = 2)\n",
    "plt.ylabel(ylabel='No. of Publications')\n",
    "plt.title(label = 'Publication History in Two Journals')\n",
    "plt.show()"
   ]
  }
 ],
 "metadata": {
  "kernelspec": {
   "display_name": "Python 3",
   "language": "python",
   "name": "python3"
  },
  "language_info": {
   "codemirror_mode": {
    "name": "ipython",
    "version": 3
   },
   "file_extension": ".py",
   "mimetype": "text/x-python",
   "name": "python",
   "nbconvert_exporter": "python",
   "pygments_lexer": "ipython3",
   "version": "3.7.3"
  }
 },
 "nbformat": 4,
 "nbformat_minor": 4
}
