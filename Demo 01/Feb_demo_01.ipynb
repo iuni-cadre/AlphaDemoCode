{
 "cells": [
  {
   "cell_type": "code",
   "execution_count": null,
   "metadata": {},
   "outputs": [],
   "source": [
    "#Load libraries:\n",
    "import pandas as pd\n",
    "import matplotlib.pyplot as plt\n",
    "import os\n",
    "import sys"
   ]
  },
  {
   "cell_type": "code",
   "execution_count": null,
   "metadata": {},
   "outputs": [],
   "source": [
    "j_of_inf = pd.read_csv(\"mag_info.csv\", header = 0)\n",
    "\n",
    "print(j_of_inf)"
   ]
  },
  {
   "cell_type": "code",
   "execution_count": null,
   "metadata": {},
   "outputs": [],
   "source": [
    "order = [1,0] \n",
    "inf_yd = j_of_inf[[j_of_inf.columns[i] for i in order]]"
   ]
  },
  {
   "cell_type": "code",
   "execution_count": null,
   "metadata": {},
   "outputs": [],
   "source": [
    "inf =inf_yd.groupby(['year']).count()\n",
    "\n",
    "inf.reset_index(inplace=True)\n",
    "\n",
    "inf = inf.sort_values('year')\n",
    "\n",
    "inf = inf[1:-1]\n",
    "\n",
    "inf.columns=[\"Year\",\"Total\"]\n",
    "\n",
    "print(inf)"
   ]
  },
  {
   "cell_type": "code",
   "execution_count": null,
   "metadata": {},
   "outputs": [],
   "source": [
    "#Create plot:\n",
    "inf.plot(x='Year', y=['Total'], color=['blue'], kind='line')\n",
    "inf_plot = plt.legend(loc = 2)\n",
    "inf_plot = plt.ylabel(ylabel='No. of Publications')\n",
    "inf_plot = plt.title(label = 'Sum of Total Articles')\n",
    "\n",
    "plt.show(inf_plot)\n"
   ]
  },
  {
   "cell_type": "code",
   "execution_count": null,
   "metadata": {},
   "outputs": [],
   "source": [
    "inf_plot.figure.savefig('articles_count.png')"
   ]
  }
 ],
 "metadata": {
  "kernelspec": {
   "display_name": "Python 3",
   "language": "python",
   "name": "python3"
  },
  "language_info": {
   "codemirror_mode": {
    "name": "ipython",
    "version": 3
   },
   "file_extension": ".py",
   "mimetype": "text/x-python",
   "name": "python",
   "nbconvert_exporter": "python",
   "pygments_lexer": "ipython3",
   "version": "3.7.3"
  }
 },
 "nbformat": 4,
 "nbformat_minor": 4
}
